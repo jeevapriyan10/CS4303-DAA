{
 "cells": [
  {
   "cell_type": "code",
   "execution_count": null,
   "id": "624a3af2",
   "metadata": {
    "vscode": {
     "languageId": "plaintext"
    }
   },
   "outputs": [],
   "source": [
    "import random\n",
    "import matplotlib.pyplot as plt\n",
    "\n",
    "def linear_search(arr, key):\n",
    "    count = 0\n",
    "    for i in range(len(arr)):\n",
    "        count += 1\n",
    "        if arr[i] == key:\n",
    "            return count\n",
    "    return count\n",
    "\n",
    "sizes = [100, 500, 1000, 5000, 10000]\n",
    "bestcase = []\n",
    "averagecase = []\n",
    "worstcase = []\n",
    "\n",
    "for size in sizes:\n",
    "    arr = list(range(size))\n",
    "\n",
    "    best = linear_search(arr, arr[0])\n",
    "    bestcase.append(best)\n",
    "\n",
    "    avg = linear_search(arr, arr[size // 2])\n",
    "    averagecase.append(avg)\n",
    "\n",
    "    worst = linear_search(arr, -1)\n",
    "    worstcase.append(worst)\n",
    "\n",
    "plt.figure(figsize=(10,6))\n",
    "plt.plot(sizes, bestcase, marker='o', label='Best Case')\n",
    "plt.plot(sizes, averagecase, marker='o', label='Average Case')\n",
    "plt.plot(sizes, worstcase, marker='o', label='Worst Case')\n",
    "plt.title('Number of Comparisons in Linear Search')\n",
    "plt.xlabel('Input Size (n)')\n",
    "plt.ylabel('Number of Comparisons')\n",
    "plt.legend()\n",
    "plt.show()"
   ]
  }
 ],
 "metadata": {
  "language_info": {
   "name": "python"
  }
 },
 "nbformat": 4,
 "nbformat_minor": 5
}
