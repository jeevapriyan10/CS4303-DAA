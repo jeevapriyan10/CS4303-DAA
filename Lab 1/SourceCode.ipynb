{
 "cells": [
  {
   "cell_type": "code",
   "execution_count": null,
   "id": "50ed5379",
   "metadata": {
    "vscode": {
     "languageId": "plaintext"
    }
   },
   "outputs": [],
   "source": [
    "import random\n",
    "import time\n",
    "import matplotlib.pyplot as plt\n",
    "\n",
    "def linear_search(arr, key):\n",
    "    for i in range(len(arr)):\n",
    "        if arr[i] == key:\n",
    "            return i\n",
    "    return -1\n",
    "\n",
    "def measure_time(arr, key):\n",
    "    start_time = time.time()\n",
    "    linear_search(arr, key)\n",
    "    end_time = time.time()\n",
    "    return (end_time - start_time) * 1000 \n",
    "\n",
    "sizes = [5000, 10000, 15000, 20000]\n",
    "best_times, average_times, worst_times = [], [], []\n",
    "\n",
    "for size in sizes:\n",
    "    arr = random.sample(range(1, size*10), size)\n",
    "\n",
    "\n",
    "    key_best = arr[0]\n",
    "    time_best = measure_time(arr, key_best)\n",
    "    best_times.append(time_best)\n",
    "\n",
    "\n",
    "    key_avg = arr[size // 2]\n",
    "    time_avg = measure_time(arr, key_avg)\n",
    "    average_times.append(time_avg)\n",
    "\n",
    "\n",
    "    key_worst = -1 \n",
    "    time_worst = measure_time(arr, key_worst)\n",
    "    worst_times.append(time_worst)\n",
    "\n",
    "\n",
    "plt.figure(figsize=(10,6))\n",
    "plt.plot(sizes, best_times, marker='o', label='Best Case')\n",
    "plt.plot(sizes, average_times, marker='o', label='Average Case')\n",
    "plt.plot(sizes, worst_times, marker='o', label='Worst Case')\n",
    "plt.title('Linear Search Time Complexity Analysis')\n",
    "plt.xlabel('Input Size (n)')\n",
    "plt.ylabel('Time (ms)')\n",
    "plt.legend()\n",
    "plt.show()\n"
   ]
  }
 ],
 "metadata": {
  "language_info": {
   "name": "python"
  }
 },
 "nbformat": 4,
 "nbformat_minor": 5
}
